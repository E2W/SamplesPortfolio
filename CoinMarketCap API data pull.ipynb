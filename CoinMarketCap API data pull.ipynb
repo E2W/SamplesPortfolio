{
 "cells": [
  {
   "cell_type": "code",
   "execution_count": 1,
   "id": "3e872366-e58a-4c6d-8706-66e034ba0a5e",
   "metadata": {},
   "outputs": [],
   "source": [
    "from requests import Request, Session\n",
    "from requests.exceptions import ConnectionError, Timeout, TooManyRedirects\n",
    "\n",
    "import json"
   ]
  },
  {
   "cell_type": "code",
   "execution_count": 2,
   "id": "2b69ff33-ece0-40e6-966e-3a6dbb0717b5",
   "metadata": {},
   "outputs": [],
   "source": [
    "import pandas as pd\n",
    "\n",
    "#To see all the columns and rows\n",
    "pd.set_option('display.max_columns', None)\n",
    "pd.set_option('display.max_rows', None)"
   ]
  },
  {
   "cell_type": "code",
   "execution_count": 3,
   "id": "0cd40456-20c1-45eb-8542-5cf75ba62633",
   "metadata": {},
   "outputs": [],
   "source": [
    "def api_coinmarketcap_latest():\n",
    "    global df\n",
    "    url = 'https://pro-api.coinmarketcap.com/v1/cryptocurrency/listings/latest' \n",
    "    parameters = {\n",
    "      'start':'1',\n",
    "      'limit':'2000',\n",
    "      'convert':'USD'\n",
    "    }\n",
    "    headers = {\n",
    "      'Accepts': 'application/json',\n",
    "      'X-CMC_PRO_API_KEY': '218162e4-36a9-40ad-887b-67493258f79b',\n",
    "    }\n",
    "\n",
    "    session = Session()\n",
    "    session.headers.update(headers)\n",
    "\n",
    "    try:\n",
    "      response = session.get(url, params=parameters)\n",
    "      data = json.loads(response.text)\n",
    "      #print(data)\n",
    "    except (ConnectionError, Timeout, TooManyRedirects) as e:\n",
    "      print(e)\n",
    "\n",
    "#NOTE:\n",
    "# Ran \"jupyter notebook --NotebookApp.iopub_data_rate_limit=1e10\" in Anaconda to increase data limit\n",
    "    \n",
    "    # Tidy up suitable for a dataframe\n",
    "    #df2 = pd.json_normalize(data['data'])\n",
    "    #df2['Timestamp'] = pd.to_datetime('now')\n",
    "    #df = df.append(df2)\n",
    "\n",
    "\n",
    "    # Create a csv and either refresh by creating new each time or append data to it\n",
    "    df = pd.json_normalize(data['data'])\n",
    "    df['timestamp'] = pd.to_datetime('now')\n",
    "    df\n",
    "\n",
    "    if not os.path.isfile(r'/workspaces/SamplesPortfolio/data/API_CoinMarketCap_Latest.csv'):\n",
    "        #Create new csv\n",
    "        df.to_csv(r'/workspaces/SamplesPortfolio/data/API_CoinMarketCap_Latest.csv', header='column_names')\n",
    "    else:\n",
    "        #Create new csv\n",
    "        df.to_csv(r'/workspaces/SamplesPortfolio/data/API_CoinMarketCap_Latest.csv', header='column_names')\n",
    "        #Append to existing csv\n",
    "        #df.to_csv(r'/workspaces/SamplesPortfolio/data/API_CoinMarketCap_Latest.csv', mode='a', header=False)"
   ]
  },
  {
   "cell_type": "code",
   "execution_count": 5,
   "id": "8b30e46e-6869-4768-96a3-0f0dcc46c3b5",
   "metadata": {
    "scrolled": true
   },
   "outputs": [],
   "source": [
    "import os \n",
    "\n",
    "from time import time\n",
    "from time import sleep\n",
    "\n",
    "api_coinmarketcap_latest()\n",
    "\n",
    "#To run over a period of time\n",
    "#print (\"Started - \" + str(pd.to_datetime('now')))\n",
    "\n",
    "#for i in range(390): #400 will run for 32 days (API uses 10 credits for first 2000 in list or 25  credits for 5000 each run, 10000/mth limit)\n",
    "#    api_coinmarketcap_latest()\n",
    "#    print('API_CoinMarketCap_Latest run - ' + str(i+1) + \" - \" + str(pd.to_datetime('now')))\n",
    "#    sleep(7200) #sleep for 120 minutes\n",
    "#exit()\n",
    "\n",
    "#print (\"Ended - \" + str(pd.to_datetime('now')) + \" - time to rerun\")"
   ]
  },
  {
   "cell_type": "code",
   "execution_count": 10,
   "id": "53c0889a-5aa7-4d33-a4cc-90800e018def",
   "metadata": {},
   "outputs": [],
   "source": [
    "#To read csv file and display\n",
    "#df = pd.read_csv(r'/workspaces/SamplesPortfolio/data/API_CoinMarketCap_Latest.csv')\n",
    "#DF"
   ]
  },
  {
   "cell_type": "code",
   "execution_count": null,
   "id": "49e48f46-138d-4a05-92f1-09921a9e7590",
   "metadata": {},
   "outputs": [],
   "source": []
  }
 ],
 "metadata": {
  "kernelspec": {
   "display_name": "Python 3 (ipykernel)",
   "language": "python",
   "name": "python3"
  },
  "language_info": {
   "codemirror_mode": {
    "name": "ipython",
    "version": 3
   },
   "file_extension": ".py",
   "mimetype": "text/x-python",
   "name": "python",
   "nbconvert_exporter": "python",
   "pygments_lexer": "ipython3",
   "version": "3.10.13"
  }
 },
 "nbformat": 4,
 "nbformat_minor": 5
}
